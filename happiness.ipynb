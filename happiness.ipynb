{
  "nbformat": 4,
  "nbformat_minor": 0,
  "metadata": {
    "colab": {
      "name": "happiness.ipynb",
      "provenance": [],
      "collapsed_sections": [],
      "authorship_tag": "ABX9TyMd9yLiuWULt8E7hzv5vywh",
      "include_colab_link": true
    },
    "kernelspec": {
      "name": "python3",
      "display_name": "Python 3"
    },
    "language_info": {
      "name": "python"
    }
  },
  "cells": [
    {
      "cell_type": "markdown",
      "metadata": {
        "id": "view-in-github",
        "colab_type": "text"
      },
      "source": [
        "<a href=\"https://colab.research.google.com/github/sarunas856/happiness/blob/main/happiness.ipynb\" target=\"_parent\"><img src=\"https://colab.research.google.com/assets/colab-badge.svg\" alt=\"Open In Colab\"/></a>"
      ]
    },
    {
      "cell_type": "markdown",
      "source": [
        "##Predict happiness score in Dystopia"
      ],
      "metadata": {
        "id": "PEJmwI98pIWi"
      }
    },
    {
      "cell_type": "markdown",
      "source": [
        "**Data Source** https://www.kaggle.com/ajaypalsinghlo/world-happiness-report-2021\n",
        "\n",
        "The happiness scores and rankings use data from the Gallup World Poll . The columns following the happiness score estimate the extent to which each of six factors – logged GDP per capita, social support, healthy life expectancy, freedom to make life choices, generosity and perceptions of corruption - in each country."
      ],
      "metadata": {
        "id": "WPCy4Zs3pU7k"
      }
    },
    {
      "cell_type": "code",
      "source": [
        "import pandas as pd\n",
        "import numpy as np\n",
        "\n",
        "from matplotlib import pyplot as plt\n",
        "import seaborn as sns"
      ],
      "metadata": {
        "id": "zwIMq-Cfq5_D"
      },
      "execution_count": null,
      "outputs": []
    },
    {
      "cell_type": "code",
      "source": [
        "# improve how pandas numbers are displayed\n",
        "pd.set_option('display.float_format', lambda x: '%.3f' % x)\n",
        "pd.set_option('display.max_columns', 25)\n",
        "pd.set_option('display.max_rows', 50)"
      ],
      "metadata": {
        "id": "5TUJZ6PUq9sD"
      },
      "execution_count": null,
      "outputs": []
    },
    {
      "cell_type": "code",
      "source": [
        "df = pd.read_csv('https://raw.githubusercontent.com/sarunas856/happiness/main/world-happiness-report-2021.csv', usecols=[0,2,6,7,8,9,10,11])"
      ],
      "metadata": {
        "id": "Ymk31qN2rEnn"
      },
      "execution_count": null,
      "outputs": []
    },
    {
      "cell_type": "code",
      "source": [
        "df = df.rename(columns={'Ladder score':'Happiness score'})"
      ],
      "metadata": {
        "id": "QFhbs6BtALyn"
      },
      "execution_count": null,
      "outputs": []
    },
    {
      "cell_type": "code",
      "source": [
        "df.head ()"
      ],
      "metadata": {
        "colab": {
          "base_uri": "https://localhost:8080/",
          "height": 206
        },
        "id": "d6z6R6V4wo72",
        "outputId": "a3b6648c-9404-4f4a-d1d6-077b94e5fa15"
      },
      "execution_count": null,
      "outputs": [
        {
          "output_type": "execute_result",
          "data": {
            "text/html": [
              "\n",
              "  <div id=\"df-bb933967-7b81-4535-9a3c-fef1d9c40c9e\">\n",
              "    <div class=\"colab-df-container\">\n",
              "      <div>\n",
              "<style scoped>\n",
              "    .dataframe tbody tr th:only-of-type {\n",
              "        vertical-align: middle;\n",
              "    }\n",
              "\n",
              "    .dataframe tbody tr th {\n",
              "        vertical-align: top;\n",
              "    }\n",
              "\n",
              "    .dataframe thead th {\n",
              "        text-align: right;\n",
              "    }\n",
              "</style>\n",
              "<table border=\"1\" class=\"dataframe\">\n",
              "  <thead>\n",
              "    <tr style=\"text-align: right;\">\n",
              "      <th></th>\n",
              "      <th>Country name</th>\n",
              "      <th>Happiness score</th>\n",
              "      <th>Logged GDP per capita</th>\n",
              "      <th>Social support</th>\n",
              "      <th>Healthy life expectancy</th>\n",
              "      <th>Freedom to make life choices</th>\n",
              "      <th>Generosity</th>\n",
              "      <th>Perceptions of corruption</th>\n",
              "    </tr>\n",
              "  </thead>\n",
              "  <tbody>\n",
              "    <tr>\n",
              "      <th>0</th>\n",
              "      <td>Finland</td>\n",
              "      <td>7.842</td>\n",
              "      <td>10.775</td>\n",
              "      <td>0.954</td>\n",
              "      <td>72.000</td>\n",
              "      <td>0.949</td>\n",
              "      <td>-0.098</td>\n",
              "      <td>0.186</td>\n",
              "    </tr>\n",
              "    <tr>\n",
              "      <th>1</th>\n",
              "      <td>Denmark</td>\n",
              "      <td>7.620</td>\n",
              "      <td>10.933</td>\n",
              "      <td>0.954</td>\n",
              "      <td>72.700</td>\n",
              "      <td>0.946</td>\n",
              "      <td>0.030</td>\n",
              "      <td>0.179</td>\n",
              "    </tr>\n",
              "    <tr>\n",
              "      <th>2</th>\n",
              "      <td>Switzerland</td>\n",
              "      <td>7.571</td>\n",
              "      <td>11.117</td>\n",
              "      <td>0.942</td>\n",
              "      <td>74.400</td>\n",
              "      <td>0.919</td>\n",
              "      <td>0.025</td>\n",
              "      <td>0.292</td>\n",
              "    </tr>\n",
              "    <tr>\n",
              "      <th>3</th>\n",
              "      <td>Iceland</td>\n",
              "      <td>7.554</td>\n",
              "      <td>10.878</td>\n",
              "      <td>0.983</td>\n",
              "      <td>73.000</td>\n",
              "      <td>0.955</td>\n",
              "      <td>0.160</td>\n",
              "      <td>0.673</td>\n",
              "    </tr>\n",
              "    <tr>\n",
              "      <th>4</th>\n",
              "      <td>Netherlands</td>\n",
              "      <td>7.464</td>\n",
              "      <td>10.932</td>\n",
              "      <td>0.942</td>\n",
              "      <td>72.400</td>\n",
              "      <td>0.913</td>\n",
              "      <td>0.175</td>\n",
              "      <td>0.338</td>\n",
              "    </tr>\n",
              "  </tbody>\n",
              "</table>\n",
              "</div>\n",
              "      <button class=\"colab-df-convert\" onclick=\"convertToInteractive('df-bb933967-7b81-4535-9a3c-fef1d9c40c9e')\"\n",
              "              title=\"Convert this dataframe to an interactive table.\"\n",
              "              style=\"display:none;\">\n",
              "        \n",
              "  <svg xmlns=\"http://www.w3.org/2000/svg\" height=\"24px\"viewBox=\"0 0 24 24\"\n",
              "       width=\"24px\">\n",
              "    <path d=\"M0 0h24v24H0V0z\" fill=\"none\"/>\n",
              "    <path d=\"M18.56 5.44l.94 2.06.94-2.06 2.06-.94-2.06-.94-.94-2.06-.94 2.06-2.06.94zm-11 1L8.5 8.5l.94-2.06 2.06-.94-2.06-.94L8.5 2.5l-.94 2.06-2.06.94zm10 10l.94 2.06.94-2.06 2.06-.94-2.06-.94-.94-2.06-.94 2.06-2.06.94z\"/><path d=\"M17.41 7.96l-1.37-1.37c-.4-.4-.92-.59-1.43-.59-.52 0-1.04.2-1.43.59L10.3 9.45l-7.72 7.72c-.78.78-.78 2.05 0 2.83L4 21.41c.39.39.9.59 1.41.59.51 0 1.02-.2 1.41-.59l7.78-7.78 2.81-2.81c.8-.78.8-2.07 0-2.86zM5.41 20L4 18.59l7.72-7.72 1.47 1.35L5.41 20z\"/>\n",
              "  </svg>\n",
              "      </button>\n",
              "      \n",
              "  <style>\n",
              "    .colab-df-container {\n",
              "      display:flex;\n",
              "      flex-wrap:wrap;\n",
              "      gap: 12px;\n",
              "    }\n",
              "\n",
              "    .colab-df-convert {\n",
              "      background-color: #E8F0FE;\n",
              "      border: none;\n",
              "      border-radius: 50%;\n",
              "      cursor: pointer;\n",
              "      display: none;\n",
              "      fill: #1967D2;\n",
              "      height: 32px;\n",
              "      padding: 0 0 0 0;\n",
              "      width: 32px;\n",
              "    }\n",
              "\n",
              "    .colab-df-convert:hover {\n",
              "      background-color: #E2EBFA;\n",
              "      box-shadow: 0px 1px 2px rgba(60, 64, 67, 0.3), 0px 1px 3px 1px rgba(60, 64, 67, 0.15);\n",
              "      fill: #174EA6;\n",
              "    }\n",
              "\n",
              "    [theme=dark] .colab-df-convert {\n",
              "      background-color: #3B4455;\n",
              "      fill: #D2E3FC;\n",
              "    }\n",
              "\n",
              "    [theme=dark] .colab-df-convert:hover {\n",
              "      background-color: #434B5C;\n",
              "      box-shadow: 0px 1px 3px 1px rgba(0, 0, 0, 0.15);\n",
              "      filter: drop-shadow(0px 1px 2px rgba(0, 0, 0, 0.3));\n",
              "      fill: #FFFFFF;\n",
              "    }\n",
              "  </style>\n",
              "\n",
              "      <script>\n",
              "        const buttonEl =\n",
              "          document.querySelector('#df-bb933967-7b81-4535-9a3c-fef1d9c40c9e button.colab-df-convert');\n",
              "        buttonEl.style.display =\n",
              "          google.colab.kernel.accessAllowed ? 'block' : 'none';\n",
              "\n",
              "        async function convertToInteractive(key) {\n",
              "          const element = document.querySelector('#df-bb933967-7b81-4535-9a3c-fef1d9c40c9e');\n",
              "          const dataTable =\n",
              "            await google.colab.kernel.invokeFunction('convertToInteractive',\n",
              "                                                     [key], {});\n",
              "          if (!dataTable) return;\n",
              "\n",
              "          const docLinkHtml = 'Like what you see? Visit the ' +\n",
              "            '<a target=\"_blank\" href=https://colab.research.google.com/notebooks/data_table.ipynb>data table notebook</a>'\n",
              "            + ' to learn more about interactive tables.';\n",
              "          element.innerHTML = '';\n",
              "          dataTable['output_type'] = 'display_data';\n",
              "          await google.colab.output.renderOutput(dataTable, element);\n",
              "          const docLink = document.createElement('div');\n",
              "          docLink.innerHTML = docLinkHtml;\n",
              "          element.appendChild(docLink);\n",
              "        }\n",
              "      </script>\n",
              "    </div>\n",
              "  </div>\n",
              "  "
            ],
            "text/plain": [
              "  Country name  Happiness score  Logged GDP per capita  Social support  \\\n",
              "0      Finland            7.842                 10.775           0.954   \n",
              "1      Denmark            7.620                 10.933           0.954   \n",
              "2  Switzerland            7.571                 11.117           0.942   \n",
              "3      Iceland            7.554                 10.878           0.983   \n",
              "4  Netherlands            7.464                 10.932           0.942   \n",
              "\n",
              "   Healthy life expectancy  Freedom to make life choices  Generosity  \\\n",
              "0                   72.000                         0.949      -0.098   \n",
              "1                   72.700                         0.946       0.030   \n",
              "2                   74.400                         0.919       0.025   \n",
              "3                   73.000                         0.955       0.160   \n",
              "4                   72.400                         0.913       0.175   \n",
              "\n",
              "   Perceptions of corruption  \n",
              "0                      0.186  \n",
              "1                      0.179  \n",
              "2                      0.292  \n",
              "3                      0.673  \n",
              "4                      0.338  "
            ]
          },
          "metadata": {},
          "execution_count": 113
        }
      ]
    },
    {
      "cell_type": "code",
      "source": [
        "df.info()"
      ],
      "metadata": {
        "colab": {
          "base_uri": "https://localhost:8080/"
        },
        "id": "SxZ7yaBexG--",
        "outputId": "2a8f6b01-24fd-4dbd-866c-c956ecb57d98"
      },
      "execution_count": null,
      "outputs": [
        {
          "output_type": "stream",
          "name": "stdout",
          "text": [
            "<class 'pandas.core.frame.DataFrame'>\n",
            "RangeIndex: 149 entries, 0 to 148\n",
            "Data columns (total 8 columns):\n",
            " #   Column                        Non-Null Count  Dtype  \n",
            "---  ------                        --------------  -----  \n",
            " 0   Country name                  149 non-null    object \n",
            " 1   Happiness score               149 non-null    float64\n",
            " 2   Logged GDP per capita         149 non-null    float64\n",
            " 3   Social support                149 non-null    float64\n",
            " 4   Healthy life expectancy       149 non-null    float64\n",
            " 5   Freedom to make life choices  149 non-null    float64\n",
            " 6   Generosity                    149 non-null    float64\n",
            " 7   Perceptions of corruption     149 non-null    float64\n",
            "dtypes: float64(7), object(1)\n",
            "memory usage: 9.4+ KB\n"
          ]
        }
      ]
    },
    {
      "cell_type": "code",
      "source": [
        "df.describe()"
      ],
      "metadata": {
        "colab": {
          "base_uri": "https://localhost:8080/",
          "height": 300
        },
        "id": "mN3IubvYxNPj",
        "outputId": "b6f96ef7-e890-43e7-ad7c-39f43ccd7a7f"
      },
      "execution_count": null,
      "outputs": [
        {
          "output_type": "execute_result",
          "data": {
            "text/html": [
              "\n",
              "  <div id=\"df-b20b5ae2-3030-4d84-94ef-47ea251a5cd0\">\n",
              "    <div class=\"colab-df-container\">\n",
              "      <div>\n",
              "<style scoped>\n",
              "    .dataframe tbody tr th:only-of-type {\n",
              "        vertical-align: middle;\n",
              "    }\n",
              "\n",
              "    .dataframe tbody tr th {\n",
              "        vertical-align: top;\n",
              "    }\n",
              "\n",
              "    .dataframe thead th {\n",
              "        text-align: right;\n",
              "    }\n",
              "</style>\n",
              "<table border=\"1\" class=\"dataframe\">\n",
              "  <thead>\n",
              "    <tr style=\"text-align: right;\">\n",
              "      <th></th>\n",
              "      <th>Happiness score</th>\n",
              "      <th>Logged GDP per capita</th>\n",
              "      <th>Social support</th>\n",
              "      <th>Healthy life expectancy</th>\n",
              "      <th>Freedom to make life choices</th>\n",
              "      <th>Generosity</th>\n",
              "      <th>Perceptions of corruption</th>\n",
              "    </tr>\n",
              "  </thead>\n",
              "  <tbody>\n",
              "    <tr>\n",
              "      <th>count</th>\n",
              "      <td>149.000</td>\n",
              "      <td>149.000</td>\n",
              "      <td>149.000</td>\n",
              "      <td>149.000</td>\n",
              "      <td>149.000</td>\n",
              "      <td>149.000</td>\n",
              "      <td>149.000</td>\n",
              "    </tr>\n",
              "    <tr>\n",
              "      <th>mean</th>\n",
              "      <td>5.533</td>\n",
              "      <td>9.432</td>\n",
              "      <td>0.815</td>\n",
              "      <td>64.993</td>\n",
              "      <td>0.792</td>\n",
              "      <td>-0.015</td>\n",
              "      <td>0.727</td>\n",
              "    </tr>\n",
              "    <tr>\n",
              "      <th>std</th>\n",
              "      <td>1.074</td>\n",
              "      <td>1.159</td>\n",
              "      <td>0.115</td>\n",
              "      <td>6.762</td>\n",
              "      <td>0.113</td>\n",
              "      <td>0.151</td>\n",
              "      <td>0.179</td>\n",
              "    </tr>\n",
              "    <tr>\n",
              "      <th>min</th>\n",
              "      <td>2.523</td>\n",
              "      <td>6.635</td>\n",
              "      <td>0.463</td>\n",
              "      <td>48.478</td>\n",
              "      <td>0.382</td>\n",
              "      <td>-0.288</td>\n",
              "      <td>0.082</td>\n",
              "    </tr>\n",
              "    <tr>\n",
              "      <th>25%</th>\n",
              "      <td>4.852</td>\n",
              "      <td>8.541</td>\n",
              "      <td>0.750</td>\n",
              "      <td>59.802</td>\n",
              "      <td>0.718</td>\n",
              "      <td>-0.126</td>\n",
              "      <td>0.667</td>\n",
              "    </tr>\n",
              "    <tr>\n",
              "      <th>50%</th>\n",
              "      <td>5.534</td>\n",
              "      <td>9.569</td>\n",
              "      <td>0.832</td>\n",
              "      <td>66.603</td>\n",
              "      <td>0.804</td>\n",
              "      <td>-0.036</td>\n",
              "      <td>0.781</td>\n",
              "    </tr>\n",
              "    <tr>\n",
              "      <th>75%</th>\n",
              "      <td>6.255</td>\n",
              "      <td>10.421</td>\n",
              "      <td>0.905</td>\n",
              "      <td>69.600</td>\n",
              "      <td>0.877</td>\n",
              "      <td>0.079</td>\n",
              "      <td>0.845</td>\n",
              "    </tr>\n",
              "    <tr>\n",
              "      <th>max</th>\n",
              "      <td>7.842</td>\n",
              "      <td>11.647</td>\n",
              "      <td>0.983</td>\n",
              "      <td>76.953</td>\n",
              "      <td>0.970</td>\n",
              "      <td>0.542</td>\n",
              "      <td>0.939</td>\n",
              "    </tr>\n",
              "  </tbody>\n",
              "</table>\n",
              "</div>\n",
              "      <button class=\"colab-df-convert\" onclick=\"convertToInteractive('df-b20b5ae2-3030-4d84-94ef-47ea251a5cd0')\"\n",
              "              title=\"Convert this dataframe to an interactive table.\"\n",
              "              style=\"display:none;\">\n",
              "        \n",
              "  <svg xmlns=\"http://www.w3.org/2000/svg\" height=\"24px\"viewBox=\"0 0 24 24\"\n",
              "       width=\"24px\">\n",
              "    <path d=\"M0 0h24v24H0V0z\" fill=\"none\"/>\n",
              "    <path d=\"M18.56 5.44l.94 2.06.94-2.06 2.06-.94-2.06-.94-.94-2.06-.94 2.06-2.06.94zm-11 1L8.5 8.5l.94-2.06 2.06-.94-2.06-.94L8.5 2.5l-.94 2.06-2.06.94zm10 10l.94 2.06.94-2.06 2.06-.94-2.06-.94-.94-2.06-.94 2.06-2.06.94z\"/><path d=\"M17.41 7.96l-1.37-1.37c-.4-.4-.92-.59-1.43-.59-.52 0-1.04.2-1.43.59L10.3 9.45l-7.72 7.72c-.78.78-.78 2.05 0 2.83L4 21.41c.39.39.9.59 1.41.59.51 0 1.02-.2 1.41-.59l7.78-7.78 2.81-2.81c.8-.78.8-2.07 0-2.86zM5.41 20L4 18.59l7.72-7.72 1.47 1.35L5.41 20z\"/>\n",
              "  </svg>\n",
              "      </button>\n",
              "      \n",
              "  <style>\n",
              "    .colab-df-container {\n",
              "      display:flex;\n",
              "      flex-wrap:wrap;\n",
              "      gap: 12px;\n",
              "    }\n",
              "\n",
              "    .colab-df-convert {\n",
              "      background-color: #E8F0FE;\n",
              "      border: none;\n",
              "      border-radius: 50%;\n",
              "      cursor: pointer;\n",
              "      display: none;\n",
              "      fill: #1967D2;\n",
              "      height: 32px;\n",
              "      padding: 0 0 0 0;\n",
              "      width: 32px;\n",
              "    }\n",
              "\n",
              "    .colab-df-convert:hover {\n",
              "      background-color: #E2EBFA;\n",
              "      box-shadow: 0px 1px 2px rgba(60, 64, 67, 0.3), 0px 1px 3px 1px rgba(60, 64, 67, 0.15);\n",
              "      fill: #174EA6;\n",
              "    }\n",
              "\n",
              "    [theme=dark] .colab-df-convert {\n",
              "      background-color: #3B4455;\n",
              "      fill: #D2E3FC;\n",
              "    }\n",
              "\n",
              "    [theme=dark] .colab-df-convert:hover {\n",
              "      background-color: #434B5C;\n",
              "      box-shadow: 0px 1px 3px 1px rgba(0, 0, 0, 0.15);\n",
              "      filter: drop-shadow(0px 1px 2px rgba(0, 0, 0, 0.3));\n",
              "      fill: #FFFFFF;\n",
              "    }\n",
              "  </style>\n",
              "\n",
              "      <script>\n",
              "        const buttonEl =\n",
              "          document.querySelector('#df-b20b5ae2-3030-4d84-94ef-47ea251a5cd0 button.colab-df-convert');\n",
              "        buttonEl.style.display =\n",
              "          google.colab.kernel.accessAllowed ? 'block' : 'none';\n",
              "\n",
              "        async function convertToInteractive(key) {\n",
              "          const element = document.querySelector('#df-b20b5ae2-3030-4d84-94ef-47ea251a5cd0');\n",
              "          const dataTable =\n",
              "            await google.colab.kernel.invokeFunction('convertToInteractive',\n",
              "                                                     [key], {});\n",
              "          if (!dataTable) return;\n",
              "\n",
              "          const docLinkHtml = 'Like what you see? Visit the ' +\n",
              "            '<a target=\"_blank\" href=https://colab.research.google.com/notebooks/data_table.ipynb>data table notebook</a>'\n",
              "            + ' to learn more about interactive tables.';\n",
              "          element.innerHTML = '';\n",
              "          dataTable['output_type'] = 'display_data';\n",
              "          await google.colab.output.renderOutput(dataTable, element);\n",
              "          const docLink = document.createElement('div');\n",
              "          docLink.innerHTML = docLinkHtml;\n",
              "          element.appendChild(docLink);\n",
              "        }\n",
              "      </script>\n",
              "    </div>\n",
              "  </div>\n",
              "  "
            ],
            "text/plain": [
              "       Happiness score  Logged GDP per capita  Social support  \\\n",
              "count          149.000                149.000         149.000   \n",
              "mean             5.533                  9.432           0.815   \n",
              "std              1.074                  1.159           0.115   \n",
              "min              2.523                  6.635           0.463   \n",
              "25%              4.852                  8.541           0.750   \n",
              "50%              5.534                  9.569           0.832   \n",
              "75%              6.255                 10.421           0.905   \n",
              "max              7.842                 11.647           0.983   \n",
              "\n",
              "       Healthy life expectancy  Freedom to make life choices  Generosity  \\\n",
              "count                  149.000                       149.000     149.000   \n",
              "mean                    64.993                         0.792      -0.015   \n",
              "std                      6.762                         0.113       0.151   \n",
              "min                     48.478                         0.382      -0.288   \n",
              "25%                     59.802                         0.718      -0.126   \n",
              "50%                     66.603                         0.804      -0.036   \n",
              "75%                     69.600                         0.877       0.079   \n",
              "max                     76.953                         0.970       0.542   \n",
              "\n",
              "       Perceptions of corruption  \n",
              "count                    149.000  \n",
              "mean                       0.727  \n",
              "std                        0.179  \n",
              "min                        0.082  \n",
              "25%                        0.667  \n",
              "50%                        0.781  \n",
              "75%                        0.845  \n",
              "max                        0.939  "
            ]
          },
          "metadata": {},
          "execution_count": 115
        }
      ]
    },
    {
      "cell_type": "code",
      "source": [
        "def plot_hist(x):\n",
        "    plt.figure(figsize=(12,5))\n",
        "    plt.tight_layout()\n",
        "    sns.histplot(x)\n",
        "    plt.show()\n",
        "\n",
        "plot_hist(df['Happiness score'])"
      ],
      "metadata": {
        "colab": {
          "base_uri": "https://localhost:8080/",
          "height": 334
        },
        "id": "rtSVQeJZxWuW",
        "outputId": "752617ea-5386-4b50-d872-a8e3e0ed399d"
      },
      "execution_count": null,
      "outputs": [
        {
          "output_type": "display_data",
          "data": {
            "image/png": "[encoded data removed]",
            "text/plain": [
              "<Figure size 864x360 with 1 Axes>"
            ]
          },
          "metadata": {
            "needs_background": "light"
          }
        }
      ]
    },
    {
      "cell_type": "code",
      "source": [
        "features = ['Happiness score','Logged GDP per capita','Social support','Healthy life expectancy','Freedom to make life choices','Generosity','Perceptions of corruption']"
      ],
      "metadata": {
        "id": "SEuh6LUqxkkX"
      },
      "execution_count": null,
      "outputs": []
    },
    {
      "cell_type": "code",
      "source": [
        "def corr_plot(mat, title='My Title', color='cividis'):\n",
        "    plt.subplots(figsize=(14, 11))\n",
        "    plt.title(title,fontsize=22)\n",
        "\n",
        "    sns.heatmap(mat,linewidths=0.2,vmax=0.7,square=True,cmap=color, \n",
        "                linecolor='w',annot=True,annot_kws={'size':9},cbar_kws={'shrink': .5})"
      ],
      "metadata": {
        "id": "D0jguW_ryXf8"
      },
      "execution_count": null,
      "outputs": []
    },
    {
      "cell_type": "code",
      "source": [
        "corr_matrix = df[features].corr()"
      ],
      "metadata": {
        "id": "LeD6vPBryZ_W"
      },
      "execution_count": null,
      "outputs": []
    },
    {
      "cell_type": "code",
      "source": [
        "corr_plot(corr_matrix, \"Happiness score\")"
      ],
      "metadata": {
        "colab": {
          "base_uri": "https://localhost:8080/",
          "height": 804
        },
        "id": "Uscd91WIya54",
        "outputId": "af71b2ae-6995-47b9-e71e-d47134cac0fc"
      },
      "execution_count": null,
      "outputs": [
        {
          "output_type": "display_data",
          "data": {
            "image/png": "[encoded data removed]",
            "text/plain": [
              "<Figure size 1008x792 with 2 Axes>"
            ]
          },
          "metadata": {
            "needs_background": "light"
          }
        }
      ]
    },
    {
      "cell_type": "code",
      "source": [
        "sns.pairplot(data=df, x_vars=['Logged GDP per capita','Social support','Healthy life expectancy','Freedom to make life choices','Generosity','Perceptions of corruption'], y_vars=[\"Happiness score\"])"
      ],
      "metadata": {
        "colab": {
          "base_uri": "https://localhost:8080/",
          "height": 214
        },
        "id": "flmzjcC3zX66",
        "outputId": "72bee109-f44d-4275-a76f-3d22fc50cda2"
      },
      "execution_count": null,
      "outputs": [
        {
          "output_type": "execute_result",
          "data": {
            "text/plain": [
              "<seaborn.axisgrid.PairGrid at 0x7feadefba050>"
            ]
          },
          "metadata": {},
          "execution_count": 124
        },
        {
          "output_type": "display_data",
          "data": {
            "image/png": "[encoded data removed]",
            "text/plain": [
              "<Figure size 1080x180 with 6 Axes>"
            ]
          },
          "metadata": {
            "needs_background": "light"
          }
        }
      ]
    },
    {
      "cell_type": "code",
      "source": [
        "y = df['Happiness score']\n",
        "x = df[['Logged GDP per capita','Social support','Healthy life expectancy','Freedom to make life choices','Generosity','Perceptions of corruption']]"
      ],
      "metadata": {
        "id": "G2p3FCRC2E3k"
      },
      "execution_count": null,
      "outputs": []
    },
    {
      "cell_type": "code",
      "source": [
        "import statsmodels.api as sm \n",
        "x_train = sm.add_constant(x)"
      ],
      "metadata": {
        "colab": {
          "base_uri": "https://localhost:8080/"
        },
        "id": "rog8G2EH3jFi",
        "outputId": "865151b0-ec50-4c81-c357-2f876a430fd7"
      },
      "execution_count": null,
      "outputs": [
        {
          "output_type": "stream",
          "name": "stderr",
          "text": [
            "/usr/local/lib/python3.7/dist-packages/statsmodels/tsa/tsatools.py:117: FutureWarning: In a future version of pandas all arguments of concat except for the argument 'objs' will be keyword-only\n",
            "  x = pd.concat(x[::order], 1)\n"
          ]
        }
      ]
    },
    {
      "cell_type": "code",
      "source": [
        "model = sm.OLS(y, x_train).fit()\n",
        "model.summary()"
      ],
      "metadata": {
        "colab": {
          "base_uri": "https://localhost:8080/",
          "height": 593
        },
        "id": "EMvEgNfp3nUi",
        "outputId": "1255fa85-0366-4a2b-81f7-be96c479b245"
      },
      "execution_count": null,
      "outputs": [
        {
          "output_type": "execute_result",
          "data": {
            "text/html": [
              "<table class=\"simpletable\">\n",
              "<caption>OLS Regression Results</caption>\n",
              "<tr>\n",
              "  <th>Dep. Variable:</th>     <td>Happiness score</td> <th>  R-squared:         </th> <td>   0.756</td>\n",
              "</tr>\n",
              "<tr>\n",
              "  <th>Model:</th>                   <td>OLS</td>       <th>  Adj. R-squared:    </th> <td>   0.746</td>\n",
              "</tr>\n",
              "<tr>\n",
              "  <th>Method:</th>             <td>Least Squares</td>  <th>  F-statistic:       </th> <td>   73.27</td>\n",
              "</tr>\n",
              "<tr>\n",
              "  <th>Date:</th>             <td>Mon, 07 Feb 2022</td> <th>  Prob (F-statistic):</th> <td>5.06e-41</td>\n",
              "</tr>\n",
              "<tr>\n",
              "  <th>Time:</th>                 <td>21:07:18</td>     <th>  Log-Likelihood:    </th> <td> -116.50</td>\n",
              "</tr>\n",
              "<tr>\n",
              "  <th>No. Observations:</th>      <td>   149</td>      <th>  AIC:               </th> <td>   247.0</td>\n",
              "</tr>\n",
              "<tr>\n",
              "  <th>Df Residuals:</th>          <td>   142</td>      <th>  BIC:               </th> <td>   268.0</td>\n",
              "</tr>\n",
              "<tr>\n",
              "  <th>Df Model:</th>              <td>     6</td>      <th>                     </th>     <td> </td>   \n",
              "</tr>\n",
              "<tr>\n",
              "  <th>Covariance Type:</th>      <td>nonrobust</td>    <th>                     </th>     <td> </td>   \n",
              "</tr>\n",
              "</table>\n",
              "<table class=\"simpletable\">\n",
              "<tr>\n",
              "                <td></td>                  <th>coef</th>     <th>std err</th>      <th>t</th>      <th>P>|t|</th>  <th>[0.025</th>    <th>0.975]</th>  \n",
              "</tr>\n",
              "<tr>\n",
              "  <th>const</th>                        <td>   -2.2372</td> <td>    0.630</td> <td>   -3.548</td> <td> 0.001</td> <td>   -3.484</td> <td>   -0.991</td>\n",
              "</tr>\n",
              "<tr>\n",
              "  <th>Logged GDP per capita</th>        <td>    0.2795</td> <td>    0.087</td> <td>    3.219</td> <td> 0.002</td> <td>    0.108</td> <td>    0.451</td>\n",
              "</tr>\n",
              "<tr>\n",
              "  <th>Social support</th>               <td>    2.4762</td> <td>    0.668</td> <td>    3.706</td> <td> 0.000</td> <td>    1.155</td> <td>    3.797</td>\n",
              "</tr>\n",
              "<tr>\n",
              "  <th>Healthy life expectancy</th>      <td>    0.0303</td> <td>    0.013</td> <td>    2.274</td> <td> 0.024</td> <td>    0.004</td> <td>    0.057</td>\n",
              "</tr>\n",
              "<tr>\n",
              "  <th>Freedom to make life choices</th> <td>    2.0105</td> <td>    0.495</td> <td>    4.063</td> <td> 0.000</td> <td>    1.032</td> <td>    2.989</td>\n",
              "</tr>\n",
              "<tr>\n",
              "  <th>Generosity</th>                   <td>    0.3644</td> <td>    0.321</td> <td>    1.134</td> <td> 0.259</td> <td>   -0.271</td> <td>    0.999</td>\n",
              "</tr>\n",
              "<tr>\n",
              "  <th>Perceptions of corruption</th>    <td>   -0.6051</td> <td>    0.291</td> <td>   -2.083</td> <td> 0.039</td> <td>   -1.179</td> <td>   -0.031</td>\n",
              "</tr>\n",
              "</table>\n",
              "<table class=\"simpletable\">\n",
              "<tr>\n",
              "  <th>Omnibus:</th>       <td>12.908</td> <th>  Durbin-Watson:     </th> <td>   1.614</td>\n",
              "</tr>\n",
              "<tr>\n",
              "  <th>Prob(Omnibus):</th> <td> 0.002</td> <th>  Jarque-Bera (JB):  </th> <td>  13.688</td>\n",
              "</tr>\n",
              "<tr>\n",
              "  <th>Skew:</th>          <td>-0.667</td> <th>  Prob(JB):          </th> <td> 0.00107</td>\n",
              "</tr>\n",
              "<tr>\n",
              "  <th>Kurtosis:</th>      <td> 3.650</td> <th>  Cond. No.          </th> <td>1.15e+03</td>\n",
              "</tr>\n",
              "</table><br/><br/>Warnings:<br/>[1] Standard Errors assume that the covariance matrix of the errors is correctly specified.<br/>[2] The condition number is large, 1.15e+03. This might indicate that there are<br/>strong multicollinearity or other numerical problems."
            ],
            "text/plain": [
              "<class 'statsmodels.iolib.summary.Summary'>\n",
              "\"\"\"\n",
              "                            OLS Regression Results                            \n",
              "==============================================================================\n",
              "Dep. Variable:        Happiness score   R-squared:                       0.756\n",
              "Model:                            OLS   Adj. R-squared:                  0.746\n",
              "Method:                 Least Squares   F-statistic:                     73.27\n",
              "Date:                Mon, 07 Feb 2022   Prob (F-statistic):           5.06e-41\n",
              "Time:                        21:07:18   Log-Likelihood:                -116.50\n",
              "No. Observations:                 149   AIC:                             247.0\n",
              "Df Residuals:                     142   BIC:                             268.0\n",
              "Df Model:                           6                                         \n",
              "Covariance Type:            nonrobust                                         \n",
              "================================================================================================\n",
              "                                   coef    std err          t      P>|t|      [0.025      0.975]\n",
              "------------------------------------------------------------------------------------------------\n",
              "const                           -2.2372      0.630     -3.548      0.001      -3.484      -0.991\n",
              "Logged GDP per capita            0.2795      0.087      3.219      0.002       0.108       0.451\n",
              "Social support                   2.4762      0.668      3.706      0.000       1.155       3.797\n",
              "Healthy life expectancy          0.0303      0.013      2.274      0.024       0.004       0.057\n",
              "Freedom to make life choices     2.0105      0.495      4.063      0.000       1.032       2.989\n",
              "Generosity                       0.3644      0.321      1.134      0.259      -0.271       0.999\n",
              "Perceptions of corruption       -0.6051      0.291     -2.083      0.039      -1.179      -0.031\n",
              "==============================================================================\n",
              "Omnibus:                       12.908   Durbin-Watson:                   1.614\n",
              "Prob(Omnibus):                  0.002   Jarque-Bera (JB):               13.688\n",
              "Skew:                          -0.667   Prob(JB):                      0.00107\n",
              "Kurtosis:                       3.650   Cond. No.                     1.15e+03\n",
              "==============================================================================\n",
              "\n",
              "Warnings:\n",
              "[1] Standard Errors assume that the covariance matrix of the errors is correctly specified.\n",
              "[2] The condition number is large, 1.15e+03. This might indicate that there are\n",
              "strong multicollinearity or other numerical problems.\n",
              "\"\"\""
            ]
          },
          "metadata": {},
          "execution_count": 127
        }
      ]
    },
    {
      "cell_type": "code",
      "source": [
        "from sklearn.linear_model import LinearRegression\n",
        "from sklearn.model_selection import train_test_split\n",
        "from sklearn.model_selection import KFold\n",
        "from sklearn.metrics import mean_absolute_percentage_error, mean_squared_error\n",
        "\n",
        "def rmse(y_test, y_pred):\n",
        "    \"\"\"root mean squared error\"\"\"\n",
        "    return round(np.sqrt(mean_squared_error(y_test, y_pred)), 4)\n",
        "\n",
        "def mape(y_test, y_pred):\n",
        "    return round(mean_absolute_percentage_error(y_test, y_pred), 4)"
      ],
      "metadata": {
        "id": "H0HT1FZD415G"
      },
      "execution_count": null,
      "outputs": []
    },
    {
      "cell_type": "code",
      "source": [
        "X_train,X_test,y_train,y_test=train_test_split(x, y, train_size = 0.7, random_state=412)\n",
        "\n",
        "lr = LinearRegression()\n",
        "reg = lr.fit(X_train, y_train)\n",
        "y_pred = reg.predict(X_test)\n",
        "\n",
        "print(f'MAPE: {mape(y_test, y_pred)}')\n",
        "print(f'RMSE: {rmse(y_test, y_pred)}')"
      ],
      "metadata": {
        "colab": {
          "base_uri": "https://localhost:8080/"
        },
        "id": "c4tv4-c65DWV",
        "outputId": "96d5a3a8-9d54-4ba2-d215-d2cbb36b997b"
      },
      "execution_count": null,
      "outputs": [
        {
          "output_type": "stream",
          "name": "stdout",
          "text": [
            "MAPE: 0.0837\n",
            "RMSE: 0.564\n"
          ]
        }
      ]
    },
    {
      "cell_type": "code",
      "source": [
        "from sklearn.metrics import mean_absolute_error\n",
        "print(f'MAE: {mean_absolute_error(y_test, y_pred):,.2f}')"
      ],
      "metadata": {
        "colab": {
          "base_uri": "https://localhost:8080/"
        },
        "id": "CIJ4gLxt5K5F",
        "outputId": "92b21b1d-1314-43d9-f5eb-264dd472c308"
      },
      "execution_count": null,
      "outputs": [
        {
          "output_type": "stream",
          "name": "stdout",
          "text": [
            "MAE: 0.44\n"
          ]
        }
      ]
    },
    {
      "cell_type": "code",
      "source": [
        "y_test_mean = np.mean(y_test)\n",
        "idx_high_p = y_test > y_test_mean "
      ],
      "metadata": {
        "id": "E0rwKoDf5-Cx"
      },
      "execution_count": null,
      "outputs": []
    },
    {
      "cell_type": "code",
      "source": [
        "print('Model performance for happier countries')\n",
        "print(f'RMSE - linear model:     {rmse(y_test[idx_high_p], y_pred[idx_high_p])}')\n",
        "print(f'MAPE - linear model:     {mape(y_test[idx_high_p], y_pred[idx_high_p])}')"
      ],
      "metadata": {
        "colab": {
          "base_uri": "https://localhost:8080/"
        },
        "id": "e6wlFH956AiV",
        "outputId": "862cb567-0470-4f46-b2d4-a27c8be9989b"
      },
      "execution_count": null,
      "outputs": [
        {
          "output_type": "stream",
          "name": "stdout",
          "text": [
            "Model performance for happier countries\n",
            "RMSE - linear model:     0.3322\n",
            "MAPE - linear model:     0.0432\n"
          ]
        }
      ]
    },
    {
      "cell_type": "code",
      "source": [
        "print('Model performance for less happier countries')\n",
        "print(f'RMSE - linear model:     {rmse(y_test[~idx_high_p], y_pred[~idx_high_p])}')\n",
        "print(f'MAPE - linear model:     {mape(y_test[~idx_high_p], y_pred[~idx_high_p])}')"
      ],
      "metadata": {
        "colab": {
          "base_uri": "https://localhost:8080/"
        },
        "id": "D_yHQg4m6ILn",
        "outputId": "eedace1a-f693-4b4c-db51-41d722c04429"
      },
      "execution_count": null,
      "outputs": [
        {
          "output_type": "stream",
          "name": "stdout",
          "text": [
            "Model performance for less happier countries\n",
            "RMSE - linear model:     0.7188\n",
            "MAPE - linear model:     0.1224\n"
          ]
        }
      ]
    }
  ]
}